{
 "cells": [
  {
   "cell_type": "code",
   "execution_count": 1,
   "metadata": {},
   "outputs": [
    {
     "name": "stdout",
     "output_type": "stream",
     "text": [
      "Collecting PyYAML\n",
      "  Using cached PyYAML-5.4.1-cp37-cp37m-manylinux1_x86_64.whl (636 kB)\n",
      "Collecting verta\n",
      "  Using cached verta-0.17.6-py2.py3-none-any.whl (818 kB)\n",
      "Collecting googleapis-common-protos>=1.5\n",
      "  Using cached googleapis_common_protos-1.53.0-py2.py3-none-any.whl (198 kB)\n",
      "Collecting click\n",
      "  Using cached click-7.1.2-py2.py3-none-any.whl (82 kB)\n",
      "Collecting cloudpickle\n",
      "  Using cached cloudpickle-1.6.0-py3-none-any.whl (23 kB)\n",
      "Collecting protobuf>=3.8\n",
      "  Using cached protobuf-3.15.8-cp37-cp37m-manylinux1_x86_64.whl (1.0 MB)\n",
      "Collecting requests<3.0,>=2.21\n",
      "  Using cached requests-2.25.1-py2.py3-none-any.whl (61 kB)\n",
      "Collecting pathlib2>=2.2\n",
      "  Using cached pathlib2-2.3.5-py2.py3-none-any.whl (18 kB)\n",
      "Collecting six>=1.9\n",
      "  Using cached six-1.15.0-py2.py3-none-any.whl (10 kB)\n",
      "Collecting chardet<5,>=3.0.2\n",
      "  Using cached chardet-4.0.0-py2.py3-none-any.whl (178 kB)\n",
      "Collecting certifi>=2017.4.17\n",
      "  Using cached certifi-2020.12.5-py2.py3-none-any.whl (147 kB)\n",
      "Collecting urllib3<1.27,>=1.21.1\n",
      "  Using cached urllib3-1.26.4-py2.py3-none-any.whl (153 kB)\n",
      "Collecting idna<3,>=2.5\n",
      "  Using cached idna-2.10-py2.py3-none-any.whl (58 kB)\n",
      "\u001b[31mERROR: verta 0.17.6 has requirement pyyaml<5.4,>=5.1, but you'll have pyyaml 5.4.1 which is incompatible.\u001b[0m\n",
      "Installing collected packages: PyYAML, six, protobuf, googleapis-common-protos, click, cloudpickle, chardet, certifi, urllib3, idna, requests, pathlib2, verta\n",
      "Successfully installed PyYAML-5.4.1 certifi-2020.12.5 chardet-4.0.0 click-7.1.2 cloudpickle-1.6.0 googleapis-common-protos-1.53.0 idna-2.10 pathlib2-2.3.5 protobuf-3.15.8 requests-2.25.1 six-1.15.0 urllib3-1.26.4 verta-0.17.6\n",
      "\u001b[33mWARNING: You are using pip version 20.1.1; however, version 21.1.1 is available.\n",
      "You should consider upgrading via the '/home/user/.pyenv/versions/3.7.8/bin/python3.7 -m pip install --upgrade pip' command.\u001b[0m\n"
     ]
    }
   ],
   "source": [
    "!pip install  --ignore-installed PyYAML verta"
   ]
  },
  {
   "cell_type": "code",
   "execution_count": 26,
   "metadata": {},
   "outputs": [],
   "source": [
    "import os\n",
    "#HOST = \"https://dev.verta.ai\"\n",
    "#HOST = \"172.17.0.1:3000\"\n",
    "HOST = \"https://dev.verta.ai\"\n",
    "\n",
    "os.environ['VERTA_EMAIL']=\"john.dean@verta.ai\"\n",
    "#os.environ['VERTA_DEV_KEY']=\"92547e3a-d7ec-43bf-9f55-18a73bcb4d46\"\n",
    "os.environ['VERTA_DEV_KEY']=\"e3789a90-2d33-409e-8744-b443e443b2f4\"\n",
    "#os.environ['VERTA_EMAIL']=\"kirill.gulyaev@quantumsoft.ru\"\n",
    "#os.environ['VERTA_DEV_KEY']=\"aa02b6e4-9c07-48e9-8fa3-6daf69c64d1e\"\n",
    "#os.environ['VERTA_EMAIL']=\"john.holmes.dean@gmail.com\"\n",
    "#os.environ['VERTA_DEV_KEY']=\"cc4e7965-b435-4ab9-ae97-907907eceed5\"\n",
    "#os.environ['VERTA_DEV_KEY']=\"4bb82324-d847-4bf7-ba3a-6bf2a126af73\"\n",
    "#os.environ['VERTA_EMAIL']=\"andrey.kuznetsov@quantumsoft.ru\"\n",
    "#os.environ['VERTA_DEV_KEY']=\"e44f69ce-a4a3-46c9-8d14-2ce963574979\"\n",
    "#os.environ['VERTA_EMAIL']=\"sai@verta.ai\"\n",
    "#os.environ['VERTA_DEV_KEY']=\"4349fd78-500c-4539-ba00-1e10693972db\"\n",
    "#os.environ['VERTA_EMAIL']=\"oleg.smirnov@quantumsoft.ru\"\n",
    "#os.environ['VERTA_DEV_KEY']=\"390b0923-103f-4de6-836b-28d86da0f911\""
   ]
  },
  {
   "cell_type": "code",
   "execution_count": 27,
   "metadata": {},
   "outputs": [],
   "source": [
    "try:\n",
    "    import verta\n",
    "except ImportError:\n",
    "    !pip install  --ignore-installed PyYAML verta\n",
    "    \n",
    "try:\n",
    "    import wget\n",
    "except ImportError:\n",
    "    !pip install  --ignore-installed PyYAML wget\n",
    "    \n",
    "try:\n",
    "    import boto3\n",
    "except ImportError:\n",
    "    !pip install  --ignore-installed PyYAML boto3"
   ]
  },
  {
   "cell_type": "code",
   "execution_count": 28,
   "metadata": {},
   "outputs": [],
   "source": [
    "from verta import Client\n",
    "from verta.utils import ModelAPI\n",
    "\n"
   ]
  },
  {
   "cell_type": "code",
   "execution_count": 29,
   "metadata": {},
   "outputs": [
    {
     "name": "stdout",
     "output_type": "stream",
     "text": [
      "set email from environment\n",
      "set developer key from environment\n",
      "connection successfully established\n"
     ]
    }
   ],
   "source": [
    "client = Client(HOST)"
   ]
  },
  {
   "cell_type": "code",
   "execution_count": 30,
   "metadata": {},
   "outputs": [
    {
     "name": "stdout",
     "output_type": "stream",
     "text": [
      "got existing Project: Census Deux\n",
      "got existing Experiment: Logistic Regression\n"
     ]
    }
   ],
   "source": [
    "from verta.visibility import (\n",
    "    OrgCustom,\n",
    "    OrgDefault,\n",
    "    Private,\n",
    ")\n",
    "\n",
    "\n",
    "# , visibility=OrgCustom(write=False)\n",
    "PROJECT_NAME = \"Census Deux\"\n",
    "EXPERIMENT_NAME = \"Logistic Regression\"\n",
    "proj = client.set_project(name=PROJECT_NAME)\n",
    "expt = client.set_experiment(EXPERIMENT_NAME)"
   ]
  },
  {
   "cell_type": "code",
   "execution_count": 31,
   "metadata": {},
   "outputs": [
    {
     "name": "stdout",
     "output_type": "stream",
     "text": [
      "got existing Dataset: dataset-test-3\n",
      "created new Dataset Version: 5 for dataset-test-3\n",
      "created new Dataset Version: 6 for dataset-test-3\n"
     ]
    }
   ],
   "source": [
    "import wget\n",
    "from verta.visibility import (\n",
    "    OrgCustom,\n",
    "    OrgDefault,\n",
    "    Private,\n",
    ")\n",
    "\n",
    "\n",
    "from verta.dataset import Path,S3\n",
    "\n",
    "train_data_url = \"http://s3.amazonaws.com/verta-starter/census-train.csv\"\n",
    "train_data_filename = wget.detect_filename(train_data_url)\n",
    "if not os.path.isfile(train_data_filename):\n",
    "    wget.download(train_data_url)\n",
    "\n",
    "test_data_url = \"http://s3.amazonaws.com/verta-starter/census-test.csv\"\n",
    "test_data_filename = wget.detect_filename(test_data_url)\n",
    "if not os.path.isfile(test_data_filename):\n",
    "    wget.download(test_data_url)\n",
    "    \n",
    "bucket = \"verta-starter\"\n",
    "dataset = client.get_or_create_dataset(name=\"dataset-test-3\")\n",
    "versionTrain = dataset.create_version(S3(\"s3://verta-starter/census-train.csv\"))\n",
    "versionTest = dataset.create_version(S3(\"s3://verta-starter/census-test.csv\"))\n",
    "\n",
    "dataset.add_attribute(\"stringKey\", \"string\")\n",
    "dataset.add_attribute(\"floatKey\", 3.14)\n",
    "dataset.add_attribute(\"boolKey\", False)\n",
    "dataset.add_attribute(\"listStringKey\", [\"apple\", \"banana\", \"orange\"])\n",
    "dataset.add_attribute(\"listFloatKey\", [1, 2, 3])\n",
    "dataset.add_attribute(\"listBoolKey\", [True, False])\n",
    "dataset.add_attribute(\"listMixedKey\", [1, \"two\", False])\n",
    "dataset.add_attribute(\"listOfListsKey\", [1, \"two\", [3, \"four\", [\"five\", 6, False]]])\n",
    "dataset.add_attribute(\"structKey\", { 'string': 'string', \"float\": 4, \"bool\": True, 'list': [1, \"two\", False], 'struct': { 'foo': 'bar'} })\n"
   ]
  },
  {
   "cell_type": "code",
   "execution_count": 32,
   "metadata": {},
   "outputs": [],
   "source": [
    "import itertools\n",
    "\n",
    "hyperparam_candidates = {\n",
    "#     'C': [1e-5, 1e-2],\n",
    "#     'solver': ['lbfgs'],\n",
    "#     'max_iter': [14, 29],\n",
    "#     'C': [1e-3, 1e-4],\n",
    "#     'solver': ['lbfgs'],\n",
    "#     'max_iter': [15, 28],\n",
    "    \n",
    "    'C': [1e-5, 1e-2],\n",
    "    'solver': ['lbfgs'],\n",
    "    'max_iter': [29],\n",
    "}\n",
    "hyperparam_sets = [dict(zip(hyperparam_candidates.keys(), values))\n",
    "                   for values\n",
    "                   in itertools.product(*hyperparam_candidates.values())]\n"
   ]
  },
  {
   "cell_type": "code",
   "execution_count": 33,
   "metadata": {},
   "outputs": [
    {
     "name": "stdout",
     "output_type": "stream",
     "text": [
      "created new ExperimentRun: Run 3334991620317295494986\n"
     ]
    },
    {
     "data": {
      "text/plain": [
       "'4744cf9e-6020-4027-a2c7-c430082deb4c'"
      ]
     },
     "execution_count": 33,
     "metadata": {},
     "output_type": "execute_result"
    }
   ],
   "source": [
    "run = client.set_experiment_run()\n",
    "run.log_attribute(\"stringKey\", \"string\")\n",
    "run.log_attribute(\"floatKey\", 3.14)\n",
    "run.log_attribute(\"boolKey\", False)\n",
    "run.log_attribute(\"listStringKey\", [\"apple\", \"banana\", \"orange\"])\n",
    "run.log_attribute(\"listFloatKey\", [1, 2, 3])\n",
    "run.log_attribute(\"listBoolKey\", [True, False])\n",
    "run.log_attribute(\"listMixedKey\", [1, \"two\", False])\n",
    "run.log_attribute(\"listOfListsKey\", [1, \"two\", [3, \"four\", [\"five\", 6, False]]])\n",
    "run.log_attribute(\"structKey\", { 'string': 'string', \"float\": 4, \"bool\": True, 'list': [1, \"two\", False], 'struct': { 'foo': 'bar'} })\n",
    "run.log_metric(\"bool\", False)\n",
    "run.id"
   ]
  },
  {
   "cell_type": "code",
   "execution_count": null,
   "metadata": {},
   "outputs": [
    {
     "name": "stdout",
     "output_type": "stream",
     "text": [
      "created new ExperimentRun: Run 33349916203173000388563\n",
      "{'C': 1e-05, 'solver': 'lbfgs', 'max_iter': 29} "
     ]
    },
    {
     "name": "stderr",
     "output_type": "stream",
     "text": [
      "/home/user/.pyenv/versions/3.7.8/lib/python3.7/site-packages/sklearn/linear_model/_logistic.py:765: ConvergenceWarning: lbfgs failed to converge (status=1):\n",
      "STOP: TOTAL NO. of ITERATIONS REACHED LIMIT.\n",
      "\n",
      "Increase the number of iterations (max_iter) or scale the data as shown in:\n",
      "    https://scikit-learn.org/stable/modules/preprocessing.html\n",
      "Please also refer to the documentation for alternative solver options:\n",
      "    https://scikit-learn.org/stable/modules/linear_model.html#logistic-regression\n",
      "  extra_warning_msg=_LOGISTIC_SOLVER_CONVERGENCE_MSG)\n"
     ]
    },
    {
     "name": "stdout",
     "output_type": "stream",
     "text": [
      "Validation accuracy: 0.7916\n",
      "uploading part 1\n"
     ]
    }
   ],
   "source": [
    "from verta.utils import ModelAPI\n",
    "from sklearn import model_selection\n",
    "from sklearn import metrics\n",
    "from sklearn import linear_model\n",
    "import random\n",
    "from random import randint\n",
    "import pandas as pd\n",
    "from verta.environment import Python\n",
    "env = Python(requirements=Python.read_pip_environment())\n",
    "\n",
    "df_train = pd.read_csv(train_data_filename)\n",
    "X_train = df_train.iloc[:, :-1]\n",
    "y_train = df_train.iloc[:, -1]\n",
    "\n",
    "df_train.head()\n",
    "runId = \"\"\n",
    "def run_experiment(hyperparams):\n",
    "    # create object to track experiment run\n",
    "    run = client.set_experiment_run()\n",
    "    runId = run.id\n",
    "    run.log_attribute(\"stringKey\", \"string\")\n",
    "    # create validation split\n",
    "    (X_val_train, X_val_test,\n",
    "     y_val_train, y_val_test) = model_selection.train_test_split(X_train, y_train,\n",
    "                                                                 test_size=0.2,\n",
    "                                                                 shuffle=True)\n",
    "    \n",
    "    # log hyperparameters\n",
    "    run.log_hyperparameters(hyperparams)\n",
    "    print(hyperparams, end=' ')\n",
    "\n",
    "    # create and train model\n",
    "    model = linear_model.LogisticRegression(**hyperparams)\n",
    "    model.fit(X_train, y_train)\n",
    "\n",
    "    # calculate and log validation accuracy\n",
    "    val_acc = model.score(X_val_test, y_val_test)\n",
    "    run.log_metric(\"val_acc\", val_acc)\n",
    "    print(\"Validation accuracy: {:.4f}\".format(val_acc))\n",
    "\n",
    "    # Dataset\n",
    "    run.log_dataset_version(\"training\", versionTrain)\n",
    "    run.log_dataset_version(\"testing\", versionTest)\n",
    "\n",
    "    # create deployment artifacts\n",
    "    model_api = ModelAPI(X_train, model.predict(X_train))\n",
    "    requirements = [\"scikit-learn\"]\n",
    "\n",
    "    # save and log model\n",
    "    run.log_model(model, model_api=model_api)\n",
    "    run.log_requirements(requirements)\n",
    "    if randint(0, 2) == 1:\n",
    "        print(\"Logged random metric\")\n",
    "        run.log_metric(\"random\", 1)\n",
    "        run.log_tag(\"has random\")\n",
    "    else:\n",
    "        print(\"Not logged random metric\")\n",
    "        run.log_tag(\"no random\")\n",
    "    run.log_observation(\"obs3\", random.randint(0, 100), epoch_num=1)\n",
    "    run.log_observation(\"obs3\", random.randint(0, 100), epoch_num=2)\n",
    "    run.log_observation(\"obs3\", random.randint(0, 100), epoch_num=3)\n",
    "    run.log_observation(\"obs3\", random.randint(0, 100), epoch_num=4)\n",
    "    run.log_observation(\"obs3\", random.randint(0, 100), epoch_num=5)\n",
    "    run.log_observation(\"obs3\", random.randint(0, 100), epoch_num=6)\n",
    "    \n",
    "    run.log_observation(\"obs0\", random.randint(0, 100), epoch_num=1)\n",
    "    run.log_observation(\"obs0\", random.randint(0, 100), epoch_num=2)\n",
    "    run.log_observation(\"obs0\", random.randint(0, 100), epoch_num=3)\n",
    "    run.log_observation(\"obs0\", random.randint(0, 100), epoch_num=4)\n",
    "    run.log_observation(\"obs0\", random.randint(0, 100), epoch_num=5)\n",
    "    run.log_observation(\"obs0\", random.randint(0, 100), epoch_num=6)\n",
    "    \n",
    "    run.log_observation(\"obs2\", random.randint(0, 100), epoch_num=1)\n",
    "    run.log_observation(\"obs2\", random.randint(0, 100), epoch_num=2)\n",
    "    run.log_observation(\"obs2\", random.randint(0, 100), epoch_num=3)\n",
    "    run.log_observation(\"obs2\", random.randint(0, 100), epoch_num=4)\n",
    "    run.log_observation(\"obs2\", random.randint(0, 100), epoch_num=5)\n",
    "    run.log_observation(\"obs2\", random.randint(0, 100), epoch_num=6)\n",
    "    \n",
    "    run.log_observation(\"very-long-observation-name\", random.randint(0, 100), epoch_num=1)\n",
    "    run.log_observation(\"very-long-observation-name\", random.randint(0, 100), epoch_num=2)\n",
    "    run.log_observation(\"very-long-observation-name\", random.randint(0, 100), epoch_num=3)\n",
    "    run.log_observation(\"very-long-observation-name\", random.randint(0, 100), epoch_num=4)\n",
    "    run.log_observation(\"very-long-observation-name\", random.randint(0, 100), epoch_num=5)\n",
    "    run.log_observation(\"very-long-observation-name\", random.randint(0, 100), epoch_num=6)\n",
    "\n",
    "    # log Git information as code version\n",
    "    run.log_code()\n",
    "    \n",
    "    # Python env\n",
    "    run.log_environment(env)\n",
    "\n",
    "for hyperparam in hyperparam_sets:\n",
    "    run_experiment(hyperparam)\n",
    "    \n",
    "    \n"
   ]
  },
  {
   "cell_type": "code",
   "execution_count": 60,
   "metadata": {},
   "outputs": [
    {
     "name": "stdout",
     "output_type": "stream",
     "text": [
      "got existing RegisteredModel: Census Redux\n",
      "created new ModelVersion: ModelVersion 9733616202253834878933\n"
     ]
    }
   ],
   "source": [
    "registeredModel = client.get_or_create_registered_model(name=PROJECT_NAME)\n",
    "modelVersion = registeredModel.create_version_from_run(runId)\n",
    "modelVersion.add_attribute(\"stringKey\", \"string\")\n",
    "modelVersion.add_attribute(\"floatKey\", 3.14)\n",
    "modelVersion.add_attribute(\"boolKey\", False)\n",
    "modelVersion.add_attribute(\"listStringKey\", [\"apple\", \"banana\", \"orange\"])\n",
    "modelVersion.add_attribute(\"listFloatKey\", [1, 2, 3])\n",
    "modelVersion.add_attribute(\"listBoolKey\", [True, False])\n",
    "modelVersion.add_attribute(\"listMixedKey\", [1, \"two\", False])\n",
    "modelVersion.add_attribute(\"listOfListsKey\", [1, \"two\", [3, \"four\", [\"five\", 6, False]]])\n",
    "modelVersion.add_attribute(\"structKey\", { 'string': 'string', \"float\": 4, \"bool\": True, 'list': [1, \"two\", False], 'struct': { 'foo': 'bar'} })\n"
   ]
  },
  {
   "cell_type": "code",
   "execution_count": 62,
   "metadata": {},
   "outputs": [
    {
     "name": "stdout",
     "output_type": "stream",
     "text": [
      "created new Repository: test repo 2 in workspace demo\n",
      "Created repo 142\n",
      "downloading s3://verta-starter/census-train.csv from S3\n",
      "download complete\n",
      "downloading s3://verta-starter/census-test.csv from S3\n",
      "download complete\n",
      "uploading s3://verta-starter/census-train.csv to ModelDB\n",
      "uploading part 1\n",
      "upload complete\n",
      "uploading s3://verta-starter/census-test.csv to ModelDB\n",
      "uploading part 1\n",
      "upload complete\n"
     ]
    }
   ],
   "source": [
    "from verta.dataset import S3\n",
    "\n",
    "repo = client.get_or_create_repository(name=\"test repo 2\")\n",
    "print(\"Created repo\", repo.id)\n",
    "\n",
    "\n",
    "commit = repo.get_commit()\n",
    "\n",
    "dataset1 = S3([\n",
    "    \"s3://verta-starter/census-train.csv\",\n",
    "    \"s3://verta-starter/census-test.csv\"\n",
    "], True)\n",
    "\n",
    "\n",
    "\n",
    "commit.update(\"training data\", dataset1)\n",
    "commit.save(\"test\")"
   ]
  },
  {
   "cell_type": "code",
   "execution_count": 63,
   "metadata": {},
   "outputs": [],
   "source": [
    "dataset.add_attribute?\n",
    "\n",
    "dataset.add_attribute(\"stringKey\", \"string\")\n",
    "dataset.add_attribute(\"floatKey\", 3.14)\n",
    "dataset.add_attribute(\"boolKey\", False)\n",
    "dataset.add_attribute(\"listStringKey\", [\"apple\", \"banana\", \"orange\"])\n",
    "dataset.add_attribute(\"listFloatKey\", [1, 2, 3])\n",
    "dataset.add_attribute(\"listBoolKey\", [True, False])\n",
    "dataset.add_attribute(\"listMixedKey\", [1, \"two\", False])\n",
    "dataset.add_attribute(\"listOfListsKey\", [1, \"two\", [3, \"four\", [\"five\", 6, False]]])\n",
    "dataset.add_attribute(\"structKey\", { 'string': 'string', \"float\": 4, \"bool\": True, 'list': [1, \"two\", False], 'struct': { 'foo': 'bar'} })\n"
   ]
  },
  {
   "cell_type": "code",
   "execution_count": null,
   "metadata": {},
   "outputs": [],
   "source": [
    "repo = client.get_or_create_repository(name=PROJECT_NAME)\n"
   ]
  },
  {
   "cell_type": "code",
   "execution_count": 14,
   "metadata": {},
   "outputs": [
    {
     "name": "stdout",
     "output_type": "stream",
     "text": [
      "created new ExperimentRun: Run 973361620165422304688\n"
     ]
    },
    {
     "data": {
      "text/plain": [
       "'8964f30b-45e3-439e-96e4-339151f9224a'"
      ]
     },
     "execution_count": 14,
     "metadata": {},
     "output_type": "execute_result"
    }
   ],
   "source": [
    "run = client.set_experiment_run()\n",
    "run.id"
   ]
  },
  {
   "cell_type": "code",
   "execution_count": 15,
   "metadata": {},
   "outputs": [],
   "source": [
    "run.log_attribute(\"discreteHistogram\", {\n",
    "    \"type\" : \"verta.discreteHistogram.v1\",\n",
    "    \"discreteHistogram\": {\n",
    "        \"buckets\": [\"yes\", \"no\"],\n",
    "        \"data\": [10, 20]\n",
    "    }\n",
    "})\n",
    "run.log_attribute(\"floatHistogram\", {\n",
    "    \"type\" : \"verta.floatHistogram.v1\",\n",
    "    \"floatHistogram\": {\n",
    "        \"bucketLimits\": [0, 3, 6],\n",
    "        \"data\": [10, 20]\n",
    "    }\n",
    "})\n",
    "run.log_attribute(\"numericValue\", {\n",
    "    \"type\" : \"verta.numericValue.v1\",\n",
    "    \"numericValue\": {\n",
    "        \"value\": 10,\n",
    "        \"unit\" : \"lbs\"\n",
    "    }\n",
    "})\n",
    "run.log_attribute(\"stringValue\", {\n",
    "    \"type\" : \"verta.stringValue.v1\",\n",
    "    \"stringValue\": {\n",
    "        \"value\": \"umbrella\"\n",
    "    }\n",
    "})\n",
    "run.log_attribute(\"table\", {\n",
    "    \"type\" : \"verta.table.v1\",\n",
    "    \"table\": {\n",
    "        \"header\": [\"header1\", \"header2\", \"header3\"],\n",
    "        \"rows\": [[1, \"two\", 3],[4, \"five\", 6]]\n",
    "    }\n",
    "})\n",
    "run.log_attribute(\"matrix\", {\n",
    "    \"type\" : \"verta.matrix.v1\",\n",
    "    \"matrix\": {\n",
    "        \"value\" : [[1,2,3],[4,5,6],[7,8,9]]\n",
    "    }\n",
    "})\n",
    "run.log_attribute(\"series\", {\n",
    "    \"type\" : \"verta.series.v1\",\n",
    "    \"series\": {\n",
    "        \"value\" : [1,2,3]\n",
    "    }\n",
    "})\n",
    "run.log_attribute(\"line\", {\n",
    "    \"type\" : \"verta.line.v1\",\n",
    "    \"line\": {\n",
    "        \"x\" : [1,2,3],\n",
    "        \"y\" : [1,2,3]\n",
    "    }\n",
    "})\n",
    "run.log_attribute(\"confusion_matrix\", {\n",
    "    \"type\" : \"verta.confusion_matrix.v1\",\n",
    "    \"confusion_matrix\": {\n",
    "        \"labels\" : [\"a\", \"b\", \"c\"],\n",
    "        \"value\" : [[1,2,3],[4,5,6],[7,8,9]]\n",
    "    }\n",
    "})"
   ]
  },
  {
   "cell_type": "code",
   "execution_count": null,
   "metadata": {},
   "outputs": [],
   "source": []
  },
  {
   "cell_type": "code",
   "execution_count": null,
   "metadata": {},
   "outputs": [],
   "source": []
  },
  {
   "cell_type": "code",
   "execution_count": null,
   "metadata": {},
   "outputs": [],
   "source": []
  },
  {
   "cell_type": "code",
   "execution_count": null,
   "metadata": {},
   "outputs": [],
   "source": []
  },
  {
   "cell_type": "code",
   "execution_count": null,
   "metadata": {},
   "outputs": [],
   "source": []
  },
  {
   "cell_type": "code",
   "execution_count": null,
   "metadata": {},
   "outputs": [],
   "source": []
  },
  {
   "cell_type": "code",
   "execution_count": null,
   "metadata": {},
   "outputs": [],
   "source": []
  },
  {
   "cell_type": "code",
   "execution_count": null,
   "metadata": {},
   "outputs": [],
   "source": []
  },
  {
   "cell_type": "code",
   "execution_count": 39,
   "metadata": {},
   "outputs": [
    {
     "ename": "HTTPError",
     "evalue": "404 Client Error: verta-uacservice: getWorkspaceByName: Error getting workspace. Details: No such user or organization found for url: https://jd.dev.verta.ai/api/v1/modeldb/project/createProject at 2021-04-29 02:11:00.588000 UTC",
     "output_type": "error",
     "traceback": [
      "\u001b[0;31m---------------------------------------------------------------------------\u001b[0m",
      "\u001b[0;31mHTTPError\u001b[0m                                 Traceback (most recent call last)",
      "\u001b[0;32m<ipython-input-39-58c1a11205e0>\u001b[0m in \u001b[0;36m<module>\u001b[0;34m\u001b[0m\n\u001b[0;32m----> 1\u001b[0;31m \u001b[0mproj\u001b[0m \u001b[0;34m=\u001b[0m \u001b[0mclient\u001b[0m\u001b[0;34m.\u001b[0m\u001b[0mset_project\u001b[0m\u001b[0;34m(\u001b[0m\u001b[0mname\u001b[0m\u001b[0;34m=\u001b[0m\u001b[0;34m\"vega\"\u001b[0m\u001b[0;34m,\u001b[0m \u001b[0mworkspace\u001b[0m\u001b[0;34m=\u001b[0m\u001b[0;34m\"attributes\"\u001b[0m\u001b[0;34m)\u001b[0m\u001b[0;34m\u001b[0m\u001b[0;34m\u001b[0m\u001b[0m\n\u001b[0m\u001b[1;32m      2\u001b[0m \u001b[0mrun\u001b[0m \u001b[0;34m=\u001b[0m \u001b[0mclient\u001b[0m\u001b[0;34m.\u001b[0m\u001b[0mset_experiment_run\u001b[0m\u001b[0;34m(\u001b[0m\u001b[0;34m)\u001b[0m\u001b[0;34m\u001b[0m\u001b[0;34m\u001b[0m\u001b[0m\n\u001b[1;32m      3\u001b[0m \u001b[0;34m\u001b[0m\u001b[0m\n\u001b[1;32m      4\u001b[0m run.log_attribute(\"vega_example\", {\n\u001b[1;32m      5\u001b[0m     \u001b[0;34m\"type\"\u001b[0m\u001b[0;34m:\u001b[0m \u001b[0;34m\"verta.vega.v1\"\u001b[0m\u001b[0;34m,\u001b[0m\u001b[0;34m\u001b[0m\u001b[0;34m\u001b[0m\u001b[0m\n",
      "\u001b[0;32m~/.pyenv/versions/3.7.8/lib/python3.7/site-packages/verta/client.py\u001b[0m in \u001b[0;36mset_project\u001b[0;34m(self, name, desc, tags, attrs, workspace, public_within_org, visibility, id)\u001b[0m\n\u001b[1;32m    448\u001b[0m                                                         \u001b[0;32mlambda\u001b[0m \u001b[0mname\u001b[0m\u001b[0;34m:\u001b[0m \u001b[0mProject\u001b[0m\u001b[0;34m.\u001b[0m\u001b[0m_get_by_name\u001b[0m\u001b[0;34m(\u001b[0m\u001b[0mself\u001b[0m\u001b[0;34m.\u001b[0m\u001b[0m_conn\u001b[0m\u001b[0;34m,\u001b[0m \u001b[0mself\u001b[0m\u001b[0;34m.\u001b[0m\u001b[0m_conf\u001b[0m\u001b[0;34m,\u001b[0m \u001b[0mname\u001b[0m\u001b[0;34m,\u001b[0m \u001b[0mself\u001b[0m\u001b[0;34m.\u001b[0m\u001b[0m_ctx\u001b[0m\u001b[0;34m.\u001b[0m\u001b[0mworkspace_name\u001b[0m\u001b[0;34m)\u001b[0m\u001b[0;34m,\u001b[0m\u001b[0;34m\u001b[0m\u001b[0;34m\u001b[0m\u001b[0m\n\u001b[1;32m    449\u001b[0m                                                         \u001b[0;32mlambda\u001b[0m \u001b[0mname\u001b[0m\u001b[0;34m:\u001b[0m \u001b[0mProject\u001b[0m\u001b[0;34m.\u001b[0m\u001b[0m_create\u001b[0m\u001b[0;34m(\u001b[0m\u001b[0mself\u001b[0m\u001b[0;34m.\u001b[0m\u001b[0m_conn\u001b[0m\u001b[0;34m,\u001b[0m \u001b[0mself\u001b[0m\u001b[0;34m.\u001b[0m\u001b[0m_conf\u001b[0m\u001b[0;34m,\u001b[0m \u001b[0mself\u001b[0m\u001b[0;34m.\u001b[0m\u001b[0m_ctx\u001b[0m\u001b[0;34m,\u001b[0m \u001b[0mname\u001b[0m\u001b[0;34m=\u001b[0m\u001b[0mname\u001b[0m\u001b[0;34m,\u001b[0m \u001b[0mdesc\u001b[0m\u001b[0;34m=\u001b[0m\u001b[0mdesc\u001b[0m\u001b[0;34m,\u001b[0m \u001b[0mtags\u001b[0m\u001b[0;34m=\u001b[0m\u001b[0mtags\u001b[0m\u001b[0;34m,\u001b[0m \u001b[0mattrs\u001b[0m\u001b[0;34m=\u001b[0m\u001b[0mattrs\u001b[0m\u001b[0;34m,\u001b[0m \u001b[0mpublic_within_org\u001b[0m\u001b[0;34m=\u001b[0m\u001b[0mpublic_within_org\u001b[0m\u001b[0;34m,\u001b[0m \u001b[0mvisibility\u001b[0m\u001b[0;34m=\u001b[0m\u001b[0mvisibility\u001b[0m\u001b[0;34m)\u001b[0m\u001b[0;34m,\u001b[0m\u001b[0;34m\u001b[0m\u001b[0;34m\u001b[0m\u001b[0m\n\u001b[0;32m--> 450\u001b[0;31m                                                         lambda: check_unnecessary_params_warning(\n\u001b[0m\u001b[1;32m    451\u001b[0m                                                             \u001b[0mresource_name\u001b[0m\u001b[0;34m,\u001b[0m \u001b[0;34m\"name {}\"\u001b[0m\u001b[0;34m.\u001b[0m\u001b[0mformat\u001b[0m\u001b[0;34m(\u001b[0m\u001b[0mname\u001b[0m\u001b[0;34m)\u001b[0m\u001b[0;34m,\u001b[0m\u001b[0;34m\u001b[0m\u001b[0;34m\u001b[0m\u001b[0m\n\u001b[1;32m    452\u001b[0m                                                             param_names, params))\n",
      "\u001b[0;32m~/.pyenv/versions/3.7.8/lib/python3.7/site-packages/verta/_tracking/entity.py\u001b[0m in \u001b[0;36m_get_or_create_by_name\u001b[0;34m(cls, conn, name, getter, creator, checker)\u001b[0m\n\u001b[1;32m    117\u001b[0m         \u001b[0mobj\u001b[0m \u001b[0;34m=\u001b[0m \u001b[0mgetter\u001b[0m\u001b[0;34m(\u001b[0m\u001b[0mname\u001b[0m\u001b[0;34m)\u001b[0m\u001b[0;34m\u001b[0m\u001b[0;34m\u001b[0m\u001b[0m\n\u001b[1;32m    118\u001b[0m         \u001b[0;32mif\u001b[0m \u001b[0mobj\u001b[0m \u001b[0;32mis\u001b[0m \u001b[0;32mNone\u001b[0m\u001b[0;34m:\u001b[0m\u001b[0;34m\u001b[0m\u001b[0;34m\u001b[0m\u001b[0m\n\u001b[0;32m--> 119\u001b[0;31m             \u001b[0mobj\u001b[0m \u001b[0;34m=\u001b[0m \u001b[0mcreator\u001b[0m\u001b[0;34m(\u001b[0m\u001b[0mname\u001b[0m\u001b[0;34m)\u001b[0m\u001b[0;34m\u001b[0m\u001b[0;34m\u001b[0m\u001b[0m\n\u001b[0m\u001b[1;32m    120\u001b[0m         \u001b[0;32melse\u001b[0m\u001b[0;34m:\u001b[0m\u001b[0;34m\u001b[0m\u001b[0;34m\u001b[0m\u001b[0m\n\u001b[1;32m    121\u001b[0m             \u001b[0mprint\u001b[0m\u001b[0;34m(\u001b[0m\u001b[0;34m\"got existing {}: {}\"\u001b[0m\u001b[0;34m.\u001b[0m\u001b[0mformat\u001b[0m\u001b[0;34m(\u001b[0m\u001b[0mcls\u001b[0m\u001b[0;34m.\u001b[0m\u001b[0m__name__\u001b[0m\u001b[0;34m,\u001b[0m \u001b[0mname\u001b[0m\u001b[0;34m)\u001b[0m\u001b[0;34m)\u001b[0m\u001b[0;34m\u001b[0m\u001b[0;34m\u001b[0m\u001b[0m\n",
      "\u001b[0;32m~/.pyenv/versions/3.7.8/lib/python3.7/site-packages/verta/client.py\u001b[0m in \u001b[0;36m<lambda>\u001b[0;34m(name)\u001b[0m\n\u001b[1;32m    447\u001b[0m             self._ctx.proj = Project._get_or_create_by_name(self._conn, name,\n\u001b[1;32m    448\u001b[0m                                                         \u001b[0;32mlambda\u001b[0m \u001b[0mname\u001b[0m\u001b[0;34m:\u001b[0m \u001b[0mProject\u001b[0m\u001b[0;34m.\u001b[0m\u001b[0m_get_by_name\u001b[0m\u001b[0;34m(\u001b[0m\u001b[0mself\u001b[0m\u001b[0;34m.\u001b[0m\u001b[0m_conn\u001b[0m\u001b[0;34m,\u001b[0m \u001b[0mself\u001b[0m\u001b[0;34m.\u001b[0m\u001b[0m_conf\u001b[0m\u001b[0;34m,\u001b[0m \u001b[0mname\u001b[0m\u001b[0;34m,\u001b[0m \u001b[0mself\u001b[0m\u001b[0;34m.\u001b[0m\u001b[0m_ctx\u001b[0m\u001b[0;34m.\u001b[0m\u001b[0mworkspace_name\u001b[0m\u001b[0;34m)\u001b[0m\u001b[0;34m,\u001b[0m\u001b[0;34m\u001b[0m\u001b[0;34m\u001b[0m\u001b[0m\n\u001b[0;32m--> 449\u001b[0;31m                                                         \u001b[0;32mlambda\u001b[0m \u001b[0mname\u001b[0m\u001b[0;34m:\u001b[0m \u001b[0mProject\u001b[0m\u001b[0;34m.\u001b[0m\u001b[0m_create\u001b[0m\u001b[0;34m(\u001b[0m\u001b[0mself\u001b[0m\u001b[0;34m.\u001b[0m\u001b[0m_conn\u001b[0m\u001b[0;34m,\u001b[0m \u001b[0mself\u001b[0m\u001b[0;34m.\u001b[0m\u001b[0m_conf\u001b[0m\u001b[0;34m,\u001b[0m \u001b[0mself\u001b[0m\u001b[0;34m.\u001b[0m\u001b[0m_ctx\u001b[0m\u001b[0;34m,\u001b[0m \u001b[0mname\u001b[0m\u001b[0;34m=\u001b[0m\u001b[0mname\u001b[0m\u001b[0;34m,\u001b[0m \u001b[0mdesc\u001b[0m\u001b[0;34m=\u001b[0m\u001b[0mdesc\u001b[0m\u001b[0;34m,\u001b[0m \u001b[0mtags\u001b[0m\u001b[0;34m=\u001b[0m\u001b[0mtags\u001b[0m\u001b[0;34m,\u001b[0m \u001b[0mattrs\u001b[0m\u001b[0;34m=\u001b[0m\u001b[0mattrs\u001b[0m\u001b[0;34m,\u001b[0m \u001b[0mpublic_within_org\u001b[0m\u001b[0;34m=\u001b[0m\u001b[0mpublic_within_org\u001b[0m\u001b[0;34m,\u001b[0m \u001b[0mvisibility\u001b[0m\u001b[0;34m=\u001b[0m\u001b[0mvisibility\u001b[0m\u001b[0;34m)\u001b[0m\u001b[0;34m,\u001b[0m\u001b[0;34m\u001b[0m\u001b[0;34m\u001b[0m\u001b[0m\n\u001b[0m\u001b[1;32m    450\u001b[0m                                                         lambda: check_unnecessary_params_warning(\n\u001b[1;32m    451\u001b[0m                                                             \u001b[0mresource_name\u001b[0m\u001b[0;34m,\u001b[0m \u001b[0;34m\"name {}\"\u001b[0m\u001b[0;34m.\u001b[0m\u001b[0mformat\u001b[0m\u001b[0;34m(\u001b[0m\u001b[0mname\u001b[0m\u001b[0;34m)\u001b[0m\u001b[0;34m,\u001b[0m\u001b[0;34m\u001b[0m\u001b[0;34m\u001b[0m\u001b[0m\n",
      "\u001b[0;32m~/.pyenv/versions/3.7.8/lib/python3.7/site-packages/verta/_tracking/entity.py\u001b[0m in \u001b[0;36m_create\u001b[0;34m(cls, conn, conf, *args, **kwargs)\u001b[0m\n\u001b[1;32m    158\u001b[0m             \u001b[0mkwargs\u001b[0m\u001b[0;34m[\u001b[0m\u001b[0mVISIBILITY_KEY\u001b[0m\u001b[0;34m]\u001b[0m \u001b[0;34m=\u001b[0m \u001b[0m_workspace_default\u001b[0m\u001b[0;34m.\u001b[0m\u001b[0m_WorkspaceDefault\u001b[0m\u001b[0;34m(\u001b[0m\u001b[0;34m)\u001b[0m\u001b[0;34m\u001b[0m\u001b[0;34m\u001b[0m\u001b[0m\n\u001b[1;32m    159\u001b[0m \u001b[0;34m\u001b[0m\u001b[0m\n\u001b[0;32m--> 160\u001b[0;31m         \u001b[0mmsg\u001b[0m \u001b[0;34m=\u001b[0m \u001b[0mcls\u001b[0m\u001b[0;34m.\u001b[0m\u001b[0m_create_proto\u001b[0m\u001b[0;34m(\u001b[0m\u001b[0mconn\u001b[0m\u001b[0;34m,\u001b[0m \u001b[0;34m*\u001b[0m\u001b[0margs\u001b[0m\u001b[0;34m,\u001b[0m \u001b[0;34m**\u001b[0m\u001b[0mkwargs\u001b[0m\u001b[0;34m)\u001b[0m\u001b[0;34m\u001b[0m\u001b[0;34m\u001b[0m\u001b[0m\n\u001b[0m\u001b[1;32m    161\u001b[0m         \u001b[0;32mif\u001b[0m \u001b[0mmsg\u001b[0m\u001b[0;34m:\u001b[0m\u001b[0;34m\u001b[0m\u001b[0;34m\u001b[0m\u001b[0m\n\u001b[1;32m    162\u001b[0m             \u001b[0;31m# pylint: disable=no-value-for-parameter\u001b[0m\u001b[0;34m\u001b[0m\u001b[0;34m\u001b[0m\u001b[0;34m\u001b[0m\u001b[0m\n",
      "\u001b[0;32m~/.pyenv/versions/3.7.8/lib/python3.7/site-packages/verta/_tracking/entity.py\u001b[0m in \u001b[0;36m_create_proto\u001b[0;34m(cls, conn, *args, **kwargs)\u001b[0m\n\u001b[1;32m    183\u001b[0m             ]\n\u001b[1;32m    184\u001b[0m \u001b[0;34m\u001b[0m\u001b[0m\n\u001b[0;32m--> 185\u001b[0;31m         \u001b[0;32mreturn\u001b[0m \u001b[0mcls\u001b[0m\u001b[0;34m.\u001b[0m\u001b[0m_create_proto_internal\u001b[0m\u001b[0;34m(\u001b[0m\u001b[0mconn\u001b[0m\u001b[0;34m,\u001b[0m \u001b[0;34m*\u001b[0m\u001b[0margs\u001b[0m\u001b[0;34m,\u001b[0m \u001b[0;34m**\u001b[0m\u001b[0mkwargs\u001b[0m\u001b[0;34m)\u001b[0m\u001b[0;34m\u001b[0m\u001b[0;34m\u001b[0m\u001b[0m\n\u001b[0m\u001b[1;32m    186\u001b[0m \u001b[0;34m\u001b[0m\u001b[0m\n\u001b[1;32m    187\u001b[0m     \u001b[0;34m@\u001b[0m\u001b[0mclassmethod\u001b[0m\u001b[0;34m\u001b[0m\u001b[0;34m\u001b[0m\u001b[0m\n",
      "\u001b[0;32m~/.pyenv/versions/3.7.8/lib/python3.7/site-packages/verta/_tracking/project.py\u001b[0m in \u001b[0;36m_create_proto_internal\u001b[0;34m(cls, conn, ctx, name, desc, tags, attrs, date_created, public_within_org, visibility)\u001b[0m\n\u001b[1;32m    121\u001b[0m                                            \u001b[0;34m\"/api/v1/modeldb/project/createProject\"\u001b[0m\u001b[0;34m,\u001b[0m\u001b[0;34m\u001b[0m\u001b[0;34m\u001b[0m\u001b[0m\n\u001b[1;32m    122\u001b[0m                                            body=msg)\n\u001b[0;32m--> 123\u001b[0;31m         \u001b[0mproj\u001b[0m \u001b[0;34m=\u001b[0m \u001b[0mconn\u001b[0m\u001b[0;34m.\u001b[0m\u001b[0mmust_proto_response\u001b[0m\u001b[0;34m(\u001b[0m\u001b[0mresponse\u001b[0m\u001b[0;34m,\u001b[0m \u001b[0mMessage\u001b[0m\u001b[0;34m.\u001b[0m\u001b[0mResponse\u001b[0m\u001b[0;34m)\u001b[0m\u001b[0;34m.\u001b[0m\u001b[0mproject\u001b[0m\u001b[0;34m\u001b[0m\u001b[0;34m\u001b[0m\u001b[0m\n\u001b[0m\u001b[1;32m    124\u001b[0m \u001b[0;34m\u001b[0m\u001b[0m\n\u001b[1;32m    125\u001b[0m         \u001b[0;32mif\u001b[0m \u001b[0mctx\u001b[0m\u001b[0;34m.\u001b[0m\u001b[0mworkspace_name\u001b[0m \u001b[0;32mis\u001b[0m \u001b[0;32mnot\u001b[0m \u001b[0;32mNone\u001b[0m\u001b[0;34m:\u001b[0m\u001b[0;34m\u001b[0m\u001b[0;34m\u001b[0m\u001b[0m\n",
      "\u001b[0;32m~/.pyenv/versions/3.7.8/lib/python3.7/site-packages/verta/_internal_utils/_utils.py\u001b[0m in \u001b[0;36mmust_proto_response\u001b[0;34m(response, response_type)\u001b[0m\n\u001b[1;32m    114\u001b[0m             \u001b[0;32mreturn\u001b[0m \u001b[0mresponse_msg\u001b[0m\u001b[0;34m\u001b[0m\u001b[0;34m\u001b[0m\u001b[0m\n\u001b[1;32m    115\u001b[0m         \u001b[0;32melse\u001b[0m\u001b[0;34m:\u001b[0m\u001b[0;34m\u001b[0m\u001b[0;34m\u001b[0m\u001b[0m\n\u001b[0;32m--> 116\u001b[0;31m             \u001b[0mraise_for_http_error\u001b[0m\u001b[0;34m(\u001b[0m\u001b[0mresponse\u001b[0m\u001b[0;34m)\u001b[0m\u001b[0;34m\u001b[0m\u001b[0;34m\u001b[0m\u001b[0m\n\u001b[0m\u001b[1;32m    117\u001b[0m \u001b[0;34m\u001b[0m\u001b[0m\n\u001b[1;32m    118\u001b[0m     \u001b[0;34m@\u001b[0m\u001b[0mstaticmethod\u001b[0m\u001b[0;34m\u001b[0m\u001b[0;34m\u001b[0m\u001b[0m\n",
      "\u001b[0;32m~/.pyenv/versions/3.7.8/lib/python3.7/site-packages/verta/_internal_utils/_utils.py\u001b[0m in \u001b[0;36mraise_for_http_error\u001b[0;34m(response)\u001b[0m\n\u001b[1;32m    675\u001b[0m             \u001b[0mmessage\u001b[0m \u001b[0;34m=\u001b[0m \u001b[0;34m\"{} {} Error: {} for url: {}\"\u001b[0m\u001b[0;34m.\u001b[0m\u001b[0mformat\u001b[0m\u001b[0;34m(\u001b[0m\u001b[0mresponse\u001b[0m\u001b[0;34m.\u001b[0m\u001b[0mstatus_code\u001b[0m\u001b[0;34m,\u001b[0m \u001b[0mcause\u001b[0m\u001b[0;34m,\u001b[0m \u001b[0mreason\u001b[0m\u001b[0;34m,\u001b[0m \u001b[0mresponse\u001b[0m\u001b[0;34m.\u001b[0m\u001b[0murl\u001b[0m\u001b[0;34m)\u001b[0m\u001b[0;34m\u001b[0m\u001b[0;34m\u001b[0m\u001b[0m\n\u001b[1;32m    676\u001b[0m             \u001b[0mmessage\u001b[0m \u001b[0;34m+=\u001b[0m \u001b[0mtime_str\u001b[0m  \u001b[0;31m# attach time to error message\u001b[0m\u001b[0;34m\u001b[0m\u001b[0;34m\u001b[0m\u001b[0m\n\u001b[0;32m--> 677\u001b[0;31m             \u001b[0msix\u001b[0m\u001b[0;34m.\u001b[0m\u001b[0mraise_from\u001b[0m\u001b[0;34m(\u001b[0m\u001b[0mrequests\u001b[0m\u001b[0;34m.\u001b[0m\u001b[0mHTTPError\u001b[0m\u001b[0;34m(\u001b[0m\u001b[0mmessage\u001b[0m\u001b[0;34m,\u001b[0m \u001b[0mresponse\u001b[0m\u001b[0;34m=\u001b[0m\u001b[0mresponse\u001b[0m\u001b[0;34m)\u001b[0m\u001b[0;34m,\u001b[0m \u001b[0;32mNone\u001b[0m\u001b[0;34m)\u001b[0m\u001b[0;34m\u001b[0m\u001b[0;34m\u001b[0m\u001b[0m\n\u001b[0m\u001b[1;32m    678\u001b[0m \u001b[0;34m\u001b[0m\u001b[0m\n\u001b[1;32m    679\u001b[0m \u001b[0;34m\u001b[0m\u001b[0m\n",
      "\u001b[0;32m~/.pyenv/versions/3.7.8/lib/python3.7/site-packages/verta/external/six/__init__.py\u001b[0m in \u001b[0;36mraise_from\u001b[0;34m(value, from_value)\u001b[0m\n",
      "\u001b[0;31mHTTPError\u001b[0m: 404 Client Error: verta-uacservice: getWorkspaceByName: Error getting workspace. Details: No such user or organization found for url: https://jd.dev.verta.ai/api/v1/modeldb/project/createProject at 2021-04-29 02:11:00.588000 UTC"
     ]
    }
   ],
   "source": [
    "proj = client.set_project(name=\"vega\", workspace=\"attributes\")\n",
    "run = client.set_experiment_run()\n",
    "\n",
    "run.log_attribute(\"vega_example\", {\n",
    "    \"type\": \"verta.vega.v1\",\n",
    "    \"spec\": {\n",
    "      \"$schema\": \"https://vega.github.io/schema/vega/v5.json\",\n",
    "      \"description\": \"npx vega-cli example.json example.pdf\",\n",
    "      \"padding\": 5,\n",
    "\n",
    "      \"data\": [\n",
    "        {\n",
    "          \"name\": \"table\",\n",
    "          \"values\": [\n",
    "            {\"category\": \"A\", \"amount\": 28},\n",
    "            {\"category\": \"B\", \"amount\": 55},\n",
    "            {\"category\": \"C\", \"amount\": 43},\n",
    "            {\"category\": \"D\", \"amount\": 91},\n",
    "            {\"category\": \"E\", \"amount\": 81},\n",
    "            {\"category\": \"F\", \"amount\": 53},\n",
    "            {\"category\": \"G\", \"amount\": 19},\n",
    "            {\"category\": \"H\", \"amount\": 87}\n",
    "          ]\n",
    "        }\n",
    "      ],\n",
    "\n",
    "      \"signals\": [\n",
    "        {\n",
    "          \"name\": \"tooltip\",\n",
    "          \"value\": {},\n",
    "          \"on\": [\n",
    "            {\"events\": \"rect:mouseover\", \"update\": \"datum\"},\n",
    "            {\"events\": \"rect:mouseout\",  \"update\": \"{}\"}\n",
    "          ]\n",
    "        }\n",
    "      ],\n",
    "\n",
    "      \"scales\": [\n",
    "        {\n",
    "          \"name\": \"xscale\",\n",
    "          \"type\": \"band\",\n",
    "          \"domain\": {\"data\": \"table\", \"field\": \"category\"},\n",
    "          \"range\": \"width\",\n",
    "          \"padding\": 0.05,\n",
    "          \"round\": True\n",
    "        },\n",
    "        {\n",
    "          \"name\": \"yscale\",\n",
    "          \"domain\": {\"data\": \"table\", \"field\": \"amount\"},\n",
    "          \"nice\": True,\n",
    "          \"range\": \"height\"\n",
    "        }\n",
    "      ],\n",
    "\n",
    "      \"axes\": [\n",
    "        { \"orient\": \"bottom\", \"scale\": \"xscale\" },\n",
    "        { \"orient\": \"left\", \"scale\": \"yscale\" }\n",
    "      ],\n",
    "\n",
    "      \"marks\": [\n",
    "        {\n",
    "          \"type\": \"rect\",\n",
    "          \"from\": {\"data\":\"table\"},\n",
    "          \"encode\": {\n",
    "            \"enter\": {\n",
    "              \"x\": {\"scale\": \"xscale\", \"field\": \"category\"},\n",
    "              \"width\": {\"scale\": \"xscale\", \"band\": 1},\n",
    "              \"y\": {\"scale\": \"yscale\", \"field\": \"amount\"},\n",
    "              \"y2\": {\"scale\": \"yscale\", \"value\": 0}\n",
    "            },\n",
    "            \"update\": {\n",
    "              \"fill\": {\"value\": \"steelblue\"}\n",
    "            },\n",
    "            \"hover\": {\n",
    "              \"fill\": {\"value\": \"red\"}\n",
    "            }\n",
    "          }\n",
    "        },\n",
    "        {\n",
    "          \"type\": \"text\",\n",
    "          \"encode\": {\n",
    "            \"enter\": {\n",
    "              \"align\": {\"value\": \"center\"},\n",
    "              \"baseline\": {\"value\": \"bottom\"},\n",
    "              \"fill\": {\"value\": \"#333\"}\n",
    "            },\n",
    "            \"update\": {\n",
    "              \"x\": {\"scale\": \"xscale\", \"signal\": \"tooltip.category\", \"band\": 0.5},\n",
    "              \"y\": {\"scale\": \"yscale\", \"signal\": \"tooltip.amount\", \"offset\": -2},\n",
    "              \"text\": {\"signal\": \"tooltip.amount\"},\n",
    "              \"fillOpacity\": [\n",
    "                {\"test\": \"datum === tooltip\", \"value\": 0},\n",
    "                {\"value\": 1}\n",
    "              ]\n",
    "            }\n",
    "          }\n",
    "        }\n",
    "      ]\n",
    "    }\n",
    "})\n"
   ]
  },
  {
   "cell_type": "code",
   "execution_count": 18,
   "metadata": {},
   "outputs": [
    {
     "data": {
      "text/html": [
       "\n",
       "        <iframe\n",
       "            width=\"1200\"\n",
       "            height=\"800\"\n",
       "            src=\"https://playground.tensorflow.org\"\n",
       "            frameborder=\"0\"\n",
       "            allowfullscreen\n",
       "        ></iframe>\n",
       "        "
      ],
      "text/plain": [
       "<IPython.lib.display.IFrame at 0x7fdcc5f82c50>"
      ]
     },
     "execution_count": 18,
     "metadata": {},
     "output_type": "execute_result"
    }
   ],
   "source": [
    "from IPython.display import IFrame\n",
    "\n",
    "IFrame(src='https://playground.tensorflow.org', width=1200, height=800)"
   ]
  },
  {
   "cell_type": "code",
   "execution_count": null,
   "metadata": {},
   "outputs": [],
   "source": []
  },
  {
   "cell_type": "code",
   "execution_count": 1,
   "metadata": {},
   "outputs": [
    {
     "data": {
      "text/html": [
       "<iframe src=\"https://playground.tensorflow.org\" width=\"1200\" height=\"1000\"></iframe>\n"
      ],
      "text/plain": [
       "<IPython.core.display.HTML object>"
      ]
     },
     "metadata": {},
     "output_type": "display_data"
    }
   ],
   "source": [
    "%%html\n",
    "<iframe src=\"https://playground.tensorflow.org\" width=\"1200\" height=\"1000\"></iframe>"
   ]
  },
  {
   "cell_type": "code",
   "execution_count": null,
   "metadata": {},
   "outputs": [],
   "source": []
  }
 ],
 "metadata": {
  "kernelspec": {
   "display_name": "Python 3",
   "language": "python",
   "name": "python3"
  },
  "language_info": {
   "codemirror_mode": {
    "name": "ipython",
    "version": 3
   },
   "file_extension": ".py",
   "mimetype": "text/x-python",
   "name": "python",
   "nbconvert_exporter": "python",
   "pygments_lexer": "ipython3",
   "version": "3.7.8"
  }
 },
 "nbformat": 4,
 "nbformat_minor": 2
}
